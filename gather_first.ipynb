{
 "cells": [
  {
   "cell_type": "code",
   "execution_count": 33,
   "metadata": {},
   "outputs": [],
   "source": [
    "import gym\n",
    "import numpy as np\n",
    "import matplotlib.pyplot as plt"
   ]
  },
  {
   "cell_type": "markdown",
   "metadata": {},
   "source": [
    "# Train for Acrobot with speedy Q-learning(SQL)"
   ]
  },
  {
   "cell_type": "code",
   "execution_count": 34,
   "metadata": {},
   "outputs": [],
   "source": [
    "# Create the Acrobot environment\n",
    "env = gym.make('Blackjack-v1')"
   ]
  },
  {
   "cell_type": "code",
   "execution_count": 39,
   "metadata": {},
   "outputs": [
    {
     "name": "stdout",
     "output_type": "stream",
     "text": [
      "Tuple(Discrete(32), Discrete(11), Discrete(2))\n"
     ]
    }
   ],
   "source": [
    "print(env.observation_space)"
   ]
  },
  {
   "cell_type": "code",
   "execution_count": 48,
   "metadata": {},
   "outputs": [],
   "source": [
    "class SpeedyQLearning:\n",
    "    def __init__(self, action_space, alpha=0.1, gamma=0.99, epsilon=0.1, beta=0.5):\n",
    "        self.action_space = action_space\n",
    "        self.alpha = alpha\n",
    "        self.gamma = gamma\n",
    "        self.epsilon = epsilon\n",
    "        self.beta = beta\n",
    "        self.Q = {}  # Dictionary to store Q-values\n",
    "        self.Q_prev = {}  # Dictionary to store previous Q-values\n",
    "        \n",
    "    def choose_action(self, state):\n",
    "        state_key = str(state)  # Convert state tuple to string\n",
    "        if np.random.uniform(0, 1) < self.epsilon:\n",
    "            return np.random.choice(self.action_space.n)\n",
    "        else:\n",
    "            # Initialize Q-values for unseen states\n",
    "            self.Q.setdefault(state_key, np.zeros(self.action_space.n))\n",
    "            return np.argmax(self.Q[state_key])\n",
    "    \n",
    "    def learn(self, state, action, reward, next_state):\n",
    "        state_key = str(state)  # Convert state tuple to string\n",
    "        next_state_key = str(next_state)  # Convert next state tuple to string\n",
    "        # Initialize Q-values for unseen states\n",
    "        self.Q.setdefault(state_key, np.zeros(self.action_space.n))\n",
    "        self.Q_prev.setdefault(state_key, np.zeros(self.action_space.n))\n",
    "        self.Q.setdefault(next_state_key, np.zeros(self.action_space.n))\n",
    "        predict = self.Q[state_key][action]\n",
    "        target = reward + self.gamma * np.max(self.Q[next_state_key])\n",
    "        self.Q[state_key][action] = predict + self.alpha * (target - predict) + self.beta * (predict - self.Q_prev[state_key][action])\n",
    "        self.Q_prev[state_key][action] = predict\n",
    "\n",
    "# Initialize the SQL agent\n",
    "action_space = env.action_space\n",
    "sql_agent = SpeedyQLearning(action_space=action_space)\n"
   ]
  },
  {
   "cell_type": "code",
   "execution_count": 55,
   "metadata": {},
   "outputs": [
    {
     "ename": "ValueError",
     "evalue": "attempt to get argmax of an empty sequence",
     "output_type": "error",
     "traceback": [
      "\u001b[0;31m---------------------------------------------------------------------------\u001b[0m",
      "\u001b[0;31mValueError\u001b[0m                                Traceback (most recent call last)",
      "\u001b[1;32m/home/flo/Desktop/Universitaet/Diplomarbeit/PAC-Bayesian-Analysis-RL/gather_first.ipynb Cell 6\u001b[0m line \u001b[0;36m1\n\u001b[1;32m      <a href='vscode-notebook-cell:/home/flo/Desktop/Universitaet/Diplomarbeit/PAC-Bayesian-Analysis-RL/gather_first.ipynb#W5sZmlsZQ%3D%3D?line=7'>8</a>\u001b[0m total_reward \u001b[39m=\u001b[39m \u001b[39m0\u001b[39m\n\u001b[1;32m      <a href='vscode-notebook-cell:/home/flo/Desktop/Universitaet/Diplomarbeit/PAC-Bayesian-Analysis-RL/gather_first.ipynb#W5sZmlsZQ%3D%3D?line=8'>9</a>\u001b[0m \u001b[39mwhile\u001b[39;00m \u001b[39mnot\u001b[39;00m done:\n\u001b[0;32m---> <a href='vscode-notebook-cell:/home/flo/Desktop/Universitaet/Diplomarbeit/PAC-Bayesian-Analysis-RL/gather_first.ipynb#W5sZmlsZQ%3D%3D?line=9'>10</a>\u001b[0m     action \u001b[39m=\u001b[39m sql_agent\u001b[39m.\u001b[39;49mchoose_action(state)\n\u001b[1;32m     <a href='vscode-notebook-cell:/home/flo/Desktop/Universitaet/Diplomarbeit/PAC-Bayesian-Analysis-RL/gather_first.ipynb#W5sZmlsZQ%3D%3D?line=10'>11</a>\u001b[0m     next_state, reward, done, _, __ \u001b[39m=\u001b[39m env\u001b[39m.\u001b[39mstep(action)\n\u001b[1;32m     <a href='vscode-notebook-cell:/home/flo/Desktop/Universitaet/Diplomarbeit/PAC-Bayesian-Analysis-RL/gather_first.ipynb#W5sZmlsZQ%3D%3D?line=11'>12</a>\u001b[0m     sql_agent\u001b[39m.\u001b[39mlearn(state, action, reward, next_state)\n",
      "\u001b[1;32m/home/flo/Desktop/Universitaet/Diplomarbeit/PAC-Bayesian-Analysis-RL/gather_first.ipynb Cell 6\u001b[0m line \u001b[0;36m1\n\u001b[1;32m     <a href='vscode-notebook-cell:/home/flo/Desktop/Universitaet/Diplomarbeit/PAC-Bayesian-Analysis-RL/gather_first.ipynb#W5sZmlsZQ%3D%3D?line=13'>14</a>\u001b[0m     \u001b[39mreturn\u001b[39;00m np\u001b[39m.\u001b[39mrandom\u001b[39m.\u001b[39mchoice(\u001b[39mself\u001b[39m\u001b[39m.\u001b[39maction_space\u001b[39m.\u001b[39mn)\n\u001b[1;32m     <a href='vscode-notebook-cell:/home/flo/Desktop/Universitaet/Diplomarbeit/PAC-Bayesian-Analysis-RL/gather_first.ipynb#W5sZmlsZQ%3D%3D?line=14'>15</a>\u001b[0m \u001b[39melse\u001b[39;00m:\n\u001b[0;32m---> <a href='vscode-notebook-cell:/home/flo/Desktop/Universitaet/Diplomarbeit/PAC-Bayesian-Analysis-RL/gather_first.ipynb#W5sZmlsZQ%3D%3D?line=15'>16</a>\u001b[0m     \u001b[39mreturn\u001b[39;00m np\u001b[39m.\u001b[39;49margmax(\u001b[39mself\u001b[39;49m\u001b[39m.\u001b[39;49mQ[state])\n",
      "File \u001b[0;32m~/anaconda3/envs/pacbayes/lib/python3.10/site-packages/numpy/core/fromnumeric.py:1229\u001b[0m, in \u001b[0;36margmax\u001b[0;34m(a, axis, out, keepdims)\u001b[0m\n\u001b[1;32m   1142\u001b[0m \u001b[39m\u001b[39m\u001b[39m\"\"\"\u001b[39;00m\n\u001b[1;32m   1143\u001b[0m \u001b[39mReturns the indices of the maximum values along an axis.\u001b[39;00m\n\u001b[1;32m   1144\u001b[0m \n\u001b[0;32m   (...)\u001b[0m\n\u001b[1;32m   1226\u001b[0m \u001b[39m(2, 1, 4)\u001b[39;00m\n\u001b[1;32m   1227\u001b[0m \u001b[39m\"\"\"\u001b[39;00m\n\u001b[1;32m   1228\u001b[0m kwds \u001b[39m=\u001b[39m {\u001b[39m'\u001b[39m\u001b[39mkeepdims\u001b[39m\u001b[39m'\u001b[39m: keepdims} \u001b[39mif\u001b[39;00m keepdims \u001b[39mis\u001b[39;00m \u001b[39mnot\u001b[39;00m np\u001b[39m.\u001b[39m_NoValue \u001b[39melse\u001b[39;00m {}\n\u001b[0;32m-> 1229\u001b[0m \u001b[39mreturn\u001b[39;00m _wrapfunc(a, \u001b[39m'\u001b[39;49m\u001b[39margmax\u001b[39;49m\u001b[39m'\u001b[39;49m, axis\u001b[39m=\u001b[39;49maxis, out\u001b[39m=\u001b[39;49mout, \u001b[39m*\u001b[39;49m\u001b[39m*\u001b[39;49mkwds)\n",
      "File \u001b[0;32m~/anaconda3/envs/pacbayes/lib/python3.10/site-packages/numpy/core/fromnumeric.py:59\u001b[0m, in \u001b[0;36m_wrapfunc\u001b[0;34m(obj, method, *args, **kwds)\u001b[0m\n\u001b[1;32m     56\u001b[0m     \u001b[39mreturn\u001b[39;00m _wrapit(obj, method, \u001b[39m*\u001b[39margs, \u001b[39m*\u001b[39m\u001b[39m*\u001b[39mkwds)\n\u001b[1;32m     58\u001b[0m \u001b[39mtry\u001b[39;00m:\n\u001b[0;32m---> 59\u001b[0m     \u001b[39mreturn\u001b[39;00m bound(\u001b[39m*\u001b[39;49margs, \u001b[39m*\u001b[39;49m\u001b[39m*\u001b[39;49mkwds)\n\u001b[1;32m     60\u001b[0m \u001b[39mexcept\u001b[39;00m \u001b[39mTypeError\u001b[39;00m:\n\u001b[1;32m     61\u001b[0m     \u001b[39m# A TypeError occurs if the object does have such a method in its\u001b[39;00m\n\u001b[1;32m     62\u001b[0m     \u001b[39m# class, but its signature is not identical to that of NumPy's. This\u001b[39;00m\n\u001b[0;32m   (...)\u001b[0m\n\u001b[1;32m     66\u001b[0m     \u001b[39m# Call _wrapit from within the except clause to ensure a potential\u001b[39;00m\n\u001b[1;32m     67\u001b[0m     \u001b[39m# exception has a traceback chain.\u001b[39;00m\n\u001b[1;32m     68\u001b[0m     \u001b[39mreturn\u001b[39;00m _wrapit(obj, method, \u001b[39m*\u001b[39margs, \u001b[39m*\u001b[39m\u001b[39m*\u001b[39mkwds)\n",
      "\u001b[0;31mValueError\u001b[0m: attempt to get argmax of an empty sequence"
     ]
    }
   ],
   "source": [
    "# Training Loop\n",
    "num_episodes = 1000\n",
    "total_rewards = []\n",
    "\n",
    "for episode in range(num_episodes):\n",
    "    state = env.reset()[0]\n",
    "    done = False\n",
    "    total_reward = 0\n",
    "    while not done:\n",
    "        action = sql_agent.choose_action(state)\n",
    "        next_state, reward, done, _, __ = env.step(action)\n",
    "        sql_agent.learn(state, action, reward, next_state)\n",
    "        state = next_state\n",
    "        total_reward += reward\n",
    "        \n",
    "    total_rewards.append(total_reward)\n",
    "\n",
    "# Plotting\n",
    "plt.figure(figsize=(10, 6))\n",
    "plt.plot(total_rewards)\n",
    "plt.ylabel('Total Reward')\n",
    "plt.xlabel('Episode')\n",
    "plt.title('Total Reward per Episode')\n",
    "plt.show()\n",
    "\n",
    "# Closing the environment\n",
    "env.close()"
   ]
  }
 ],
 "metadata": {
  "kernelspec": {
   "display_name": "pacbayes",
   "language": "python",
   "name": "python3"
  },
  "language_info": {
   "codemirror_mode": {
    "name": "ipython",
    "version": 3
   },
   "file_extension": ".py",
   "mimetype": "text/x-python",
   "name": "python",
   "nbconvert_exporter": "python",
   "pygments_lexer": "ipython3",
   "version": "3.10.12"
  },
  "orig_nbformat": 4
 },
 "nbformat": 4,
 "nbformat_minor": 2
}
