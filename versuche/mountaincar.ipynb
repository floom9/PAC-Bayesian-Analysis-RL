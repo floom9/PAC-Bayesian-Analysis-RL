{
 "cells": [
  {
   "cell_type": "code",
   "execution_count": 1,
   "metadata": {},
   "outputs": [],
   "source": [
    "import numpy as np\n",
    "# use gym==0.17.3 for better compatibility\n",
    "import gym"
   ]
  },
  {
   "cell_type": "code",
   "execution_count": 7,
   "metadata": {},
   "outputs": [
    {
     "ename": "TypeError",
     "evalue": "MountainCarEnv.__init__() got an unexpected keyword argument 'render_mode'",
     "output_type": "error",
     "traceback": [
      "\u001b[0;31m---------------------------------------------------------------------------\u001b[0m",
      "\u001b[0;31mTypeError\u001b[0m                                 Traceback (most recent call last)",
      "Cell \u001b[0;32mIn[7], line 1\u001b[0m\n\u001b[0;32m----> 1\u001b[0m env \u001b[39m=\u001b[39m gym\u001b[39m.\u001b[39mmake(\u001b[39m\"\u001b[39m\u001b[39mMountainCar-v0\u001b[39m\u001b[39m\"\u001b[39m, render_mode\u001b[39m=\u001b[39m\u001b[39m\"\u001b[39m\u001b[39mrgb_array\u001b[39m\u001b[39m\"\u001b[39m)\n",
      "File \u001b[0;32m~/anaconda3/envs/gym/lib/python3.11/site-packages/gym/envs/registration.py:145\u001b[0m, in \u001b[0;36mmake\u001b[0;34m(id, **kwargs)\u001b[0m\n\u001b[1;32m    144\u001b[0m \u001b[39mdef\u001b[39;00m \u001b[39mmake\u001b[39m(\u001b[39mid\u001b[39m, \u001b[39m*\u001b[39m\u001b[39m*\u001b[39mkwargs):\n\u001b[0;32m--> 145\u001b[0m     \u001b[39mreturn\u001b[39;00m registry\u001b[39m.\u001b[39mmake(\u001b[39mid\u001b[39m, \u001b[39m*\u001b[39m\u001b[39m*\u001b[39mkwargs)\n",
      "File \u001b[0;32m~/anaconda3/envs/gym/lib/python3.11/site-packages/gym/envs/registration.py:90\u001b[0m, in \u001b[0;36mEnvRegistry.make\u001b[0;34m(self, path, **kwargs)\u001b[0m\n\u001b[1;32m     88\u001b[0m     logger\u001b[39m.\u001b[39minfo(\u001b[39m'\u001b[39m\u001b[39mMaking new env: \u001b[39m\u001b[39m%s\u001b[39;00m\u001b[39m'\u001b[39m, path)\n\u001b[1;32m     89\u001b[0m spec \u001b[39m=\u001b[39m \u001b[39mself\u001b[39m\u001b[39m.\u001b[39mspec(path)\n\u001b[0;32m---> 90\u001b[0m env \u001b[39m=\u001b[39m spec\u001b[39m.\u001b[39mmake(\u001b[39m*\u001b[39m\u001b[39m*\u001b[39mkwargs)\n\u001b[1;32m     91\u001b[0m \u001b[39m# We used to have people override _reset/_step rather than\u001b[39;00m\n\u001b[1;32m     92\u001b[0m \u001b[39m# reset/step. Set _gym_disable_underscore_compat = True on\u001b[39;00m\n\u001b[1;32m     93\u001b[0m \u001b[39m# your environment if you use these methods and don't want\u001b[39;00m\n\u001b[1;32m     94\u001b[0m \u001b[39m# compatibility code to be invoked.\u001b[39;00m\n\u001b[1;32m     95\u001b[0m \u001b[39mif\u001b[39;00m \u001b[39mhasattr\u001b[39m(env, \u001b[39m\"\u001b[39m\u001b[39m_reset\u001b[39m\u001b[39m\"\u001b[39m) \u001b[39mand\u001b[39;00m \u001b[39mhasattr\u001b[39m(env, \u001b[39m\"\u001b[39m\u001b[39m_step\u001b[39m\u001b[39m\"\u001b[39m) \u001b[39mand\u001b[39;00m \u001b[39mnot\u001b[39;00m \u001b[39mgetattr\u001b[39m(env, \u001b[39m\"\u001b[39m\u001b[39m_gym_disable_underscore_compat\u001b[39m\u001b[39m\"\u001b[39m, \u001b[39mFalse\u001b[39;00m):\n",
      "File \u001b[0;32m~/anaconda3/envs/gym/lib/python3.11/site-packages/gym/envs/registration.py:60\u001b[0m, in \u001b[0;36mEnvSpec.make\u001b[0;34m(self, **kwargs)\u001b[0m\n\u001b[1;32m     58\u001b[0m \u001b[39melse\u001b[39;00m:\n\u001b[1;32m     59\u001b[0m     \u001b[39mcls\u001b[39m \u001b[39m=\u001b[39m load(\u001b[39mself\u001b[39m\u001b[39m.\u001b[39mentry_point)\n\u001b[0;32m---> 60\u001b[0m     env \u001b[39m=\u001b[39m \u001b[39mcls\u001b[39m(\u001b[39m*\u001b[39m\u001b[39m*\u001b[39m_kwargs)\n\u001b[1;32m     62\u001b[0m \u001b[39m# Make the environment aware of which spec it came from.\u001b[39;00m\n\u001b[1;32m     63\u001b[0m spec \u001b[39m=\u001b[39m copy\u001b[39m.\u001b[39mdeepcopy(\u001b[39mself\u001b[39m)\n",
      "\u001b[0;31mTypeError\u001b[0m: MountainCarEnv.__init__() got an unexpected keyword argument 'render_mode'"
     ]
    }
   ],
   "source": [
    "env = gym.make(\"MountainCar-v0\")"
   ]
  },
  {
   "cell_type": "code",
   "execution_count": 6,
   "metadata": {},
   "outputs": [
    {
     "ename": "ContextException",
     "evalue": "Could not create GL context",
     "output_type": "error",
     "traceback": [
      "\u001b[0;31m---------------------------------------------------------------------------\u001b[0m",
      "\u001b[0;31mContextException\u001b[0m                          Traceback (most recent call last)",
      "Cell \u001b[0;32mIn[6], line 2\u001b[0m\n\u001b[1;32m      1\u001b[0m env\u001b[39m.\u001b[39mreset()\n\u001b[0;32m----> 2\u001b[0m env\u001b[39m.\u001b[39mrender(mode\u001b[39m=\u001b[39m\u001b[39m\"\u001b[39m\u001b[39mrgb_array\u001b[39m\u001b[39m\"\u001b[39m)\n",
      "File \u001b[0;32m~/anaconda3/envs/gym/lib/python3.11/site-packages/gym/core.py:240\u001b[0m, in \u001b[0;36mWrapper.render\u001b[0;34m(self, mode, **kwargs)\u001b[0m\n\u001b[1;32m    239\u001b[0m \u001b[39mdef\u001b[39;00m \u001b[39mrender\u001b[39m(\u001b[39mself\u001b[39m, mode\u001b[39m=\u001b[39m\u001b[39m'\u001b[39m\u001b[39mhuman\u001b[39m\u001b[39m'\u001b[39m, \u001b[39m*\u001b[39m\u001b[39m*\u001b[39mkwargs):\n\u001b[0;32m--> 240\u001b[0m     \u001b[39mreturn\u001b[39;00m \u001b[39mself\u001b[39m\u001b[39m.\u001b[39menv\u001b[39m.\u001b[39mrender(mode, \u001b[39m*\u001b[39m\u001b[39m*\u001b[39mkwargs)\n",
      "File \u001b[0;32m~/anaconda3/envs/gym/lib/python3.11/site-packages/gym/envs/classic_control/mountain_car.py:126\u001b[0m, in \u001b[0;36mMountainCarEnv.render\u001b[0;34m(self, mode)\u001b[0m\n\u001b[1;32m    123\u001b[0m carheight \u001b[39m=\u001b[39m \u001b[39m20\u001b[39m\n\u001b[1;32m    125\u001b[0m \u001b[39mif\u001b[39;00m \u001b[39mself\u001b[39m\u001b[39m.\u001b[39mviewer \u001b[39mis\u001b[39;00m \u001b[39mNone\u001b[39;00m:\n\u001b[0;32m--> 126\u001b[0m     \u001b[39mfrom\u001b[39;00m \u001b[39mgym\u001b[39;00m\u001b[39m.\u001b[39;00m\u001b[39menvs\u001b[39;00m\u001b[39m.\u001b[39;00m\u001b[39mclassic_control\u001b[39;00m \u001b[39mimport\u001b[39;00m rendering\n\u001b[1;32m    127\u001b[0m     \u001b[39mself\u001b[39m\u001b[39m.\u001b[39mviewer \u001b[39m=\u001b[39m rendering\u001b[39m.\u001b[39mViewer(screen_width, screen_height)\n\u001b[1;32m    128\u001b[0m     xs \u001b[39m=\u001b[39m np\u001b[39m.\u001b[39mlinspace(\u001b[39mself\u001b[39m\u001b[39m.\u001b[39mmin_position, \u001b[39mself\u001b[39m\u001b[39m.\u001b[39mmax_position, \u001b[39m100\u001b[39m)\n",
      "File \u001b[0;32m~/anaconda3/envs/gym/lib/python3.11/site-packages/gym/envs/classic_control/rendering.py:25\u001b[0m\n\u001b[1;32m     17\u001b[0m     \u001b[39mraise\u001b[39;00m \u001b[39mImportError\u001b[39;00m(\u001b[39m'''\u001b[39m\n\u001b[1;32m     18\u001b[0m \u001b[39m    Cannot import pyglet.\u001b[39m\n\u001b[1;32m     19\u001b[0m \u001b[39m    HINT: you can install pyglet directly via \u001b[39m\u001b[39m'\u001b[39m\u001b[39mpip install pyglet\u001b[39m\u001b[39m'\u001b[39m\u001b[39m.\u001b[39m\n\u001b[1;32m     20\u001b[0m \u001b[39m    But if you really just want to install all Gym dependencies and not have to think about it,\u001b[39m\n\u001b[1;32m     21\u001b[0m \u001b[39m    \u001b[39m\u001b[39m'\u001b[39m\u001b[39mpip install -e .[all]\u001b[39m\u001b[39m'\u001b[39m\u001b[39m or \u001b[39m\u001b[39m'\u001b[39m\u001b[39mpip install gym[all]\u001b[39m\u001b[39m'\u001b[39m\u001b[39m will do it.\u001b[39m\n\u001b[1;32m     22\u001b[0m \u001b[39m    \u001b[39m\u001b[39m'''\u001b[39m)\n\u001b[1;32m     24\u001b[0m \u001b[39mtry\u001b[39;00m:\n\u001b[0;32m---> 25\u001b[0m     \u001b[39mfrom\u001b[39;00m \u001b[39mpyglet\u001b[39;00m\u001b[39m.\u001b[39;00m\u001b[39mgl\u001b[39;00m \u001b[39mimport\u001b[39;00m \u001b[39m*\u001b[39m\n\u001b[1;32m     26\u001b[0m \u001b[39mexcept\u001b[39;00m \u001b[39mImportError\u001b[39;00m \u001b[39mas\u001b[39;00m e:\n\u001b[1;32m     27\u001b[0m     \u001b[39mraise\u001b[39;00m \u001b[39mImportError\u001b[39;00m(\u001b[39m'''\u001b[39m\n\u001b[1;32m     28\u001b[0m \u001b[39m    Error occurred while running `from pyglet.gl import *`\u001b[39m\n\u001b[1;32m     29\u001b[0m \u001b[39m    HINT: make sure you have OpenGL install. On Ubuntu, you can run \u001b[39m\u001b[39m'\u001b[39m\u001b[39mapt-get install python-opengl\u001b[39m\u001b[39m'\u001b[39m\u001b[39m.\u001b[39m\n\u001b[1;32m     30\u001b[0m \u001b[39m    If you\u001b[39m\u001b[39m'\u001b[39m\u001b[39mre running on a server, you may need a virtual frame buffer; something like this should work:\u001b[39m\n\u001b[1;32m     31\u001b[0m \u001b[39m    \u001b[39m\u001b[39m'\u001b[39m\u001b[39mxvfb-run -s \u001b[39m\u001b[39m\\\"\u001b[39;00m\u001b[39m-screen 0 1400x900x24\u001b[39m\u001b[39m\\\"\u001b[39;00m\u001b[39m python <your_script.py>\u001b[39m\u001b[39m'\u001b[39m\n\u001b[1;32m     32\u001b[0m \u001b[39m    \u001b[39m\u001b[39m'''\u001b[39m)\n",
      "File \u001b[0;32m~/anaconda3/envs/gym/lib/python3.11/site-packages/pyglet/gl/__init__.py:232\u001b[0m\n\u001b[1;32m    229\u001b[0m \u001b[39mif\u001b[39;00m \u001b[39mnot\u001b[39;00m _is_pyglet_doc_run \u001b[39mand\u001b[39;00m \u001b[39m'\u001b[39m\u001b[39mpyglet.window\u001b[39m\u001b[39m'\u001b[39m \u001b[39mnot\u001b[39;00m \u001b[39min\u001b[39;00m _sys\u001b[39m.\u001b[39mmodules \u001b[39mand\u001b[39;00m _pyglet\u001b[39m.\u001b[39moptions[\u001b[39m'\u001b[39m\u001b[39mshadow_window\u001b[39m\u001b[39m'\u001b[39m]:\n\u001b[1;32m    230\u001b[0m     \u001b[39m# trickery is for circular import\u001b[39;00m\n\u001b[1;32m    231\u001b[0m     _pyglet\u001b[39m.\u001b[39mgl \u001b[39m=\u001b[39m _sys\u001b[39m.\u001b[39mmodules[\u001b[39m__name__\u001b[39m]\n\u001b[0;32m--> 232\u001b[0m     \u001b[39mimport\u001b[39;00m \u001b[39mpyglet\u001b[39;00m\u001b[39m.\u001b[39;00m\u001b[39mwindow\u001b[39;00m\n",
      "File \u001b[0;32m~/anaconda3/envs/gym/lib/python3.11/site-packages/pyglet/window/__init__.py:1918\u001b[0m\n\u001b[1;32m   1916\u001b[0m \u001b[39mif\u001b[39;00m \u001b[39mnot\u001b[39;00m _is_pyglet_doc_run:\n\u001b[1;32m   1917\u001b[0m     pyglet\u001b[39m.\u001b[39mwindow \u001b[39m=\u001b[39m sys\u001b[39m.\u001b[39mmodules[\u001b[39m__name__\u001b[39m]\n\u001b[0;32m-> 1918\u001b[0m     gl\u001b[39m.\u001b[39m_create_shadow_window()\n",
      "File \u001b[0;32m~/anaconda3/envs/gym/lib/python3.11/site-packages/pyglet/gl/__init__.py:206\u001b[0m, in \u001b[0;36m_create_shadow_window\u001b[0;34m()\u001b[0m\n\u001b[1;32m    203\u001b[0m     \u001b[39mreturn\u001b[39;00m\n\u001b[1;32m    205\u001b[0m \u001b[39mfrom\u001b[39;00m \u001b[39mpyglet\u001b[39;00m\u001b[39m.\u001b[39;00m\u001b[39mwindow\u001b[39;00m \u001b[39mimport\u001b[39;00m Window\n\u001b[0;32m--> 206\u001b[0m _shadow_window \u001b[39m=\u001b[39m Window(width\u001b[39m=\u001b[39m\u001b[39m1\u001b[39m, height\u001b[39m=\u001b[39m\u001b[39m1\u001b[39m, visible\u001b[39m=\u001b[39m\u001b[39mFalse\u001b[39;00m)\n\u001b[1;32m    207\u001b[0m _shadow_window\u001b[39m.\u001b[39mswitch_to()\n\u001b[1;32m    209\u001b[0m \u001b[39mfrom\u001b[39;00m \u001b[39mpyglet\u001b[39;00m \u001b[39mimport\u001b[39;00m app\n",
      "File \u001b[0;32m~/anaconda3/envs/gym/lib/python3.11/site-packages/pyglet/window/xlib/__init__.py:171\u001b[0m, in \u001b[0;36mXlibWindow.__init__\u001b[0;34m(self, *args, **kwargs)\u001b[0m\n\u001b[1;32m    168\u001b[0m         \u001b[39melse\u001b[39;00m:\n\u001b[1;32m    169\u001b[0m             \u001b[39mself\u001b[39m\u001b[39m.\u001b[39m_event_handlers[message] \u001b[39m=\u001b[39m func\n\u001b[0;32m--> 171\u001b[0m \u001b[39msuper\u001b[39m(XlibWindow, \u001b[39mself\u001b[39m)\u001b[39m.\u001b[39m\u001b[39m__init__\u001b[39m(\u001b[39m*\u001b[39margs, \u001b[39m*\u001b[39m\u001b[39m*\u001b[39mkwargs)\n\u001b[1;32m    173\u001b[0m \u001b[39mglobal\u001b[39;00m _can_detect_autorepeat\n\u001b[1;32m    174\u001b[0m \u001b[39mif\u001b[39;00m _can_detect_autorepeat \u001b[39mis\u001b[39;00m \u001b[39mNone\u001b[39;00m:\n",
      "File \u001b[0;32m~/anaconda3/envs/gym/lib/python3.11/site-packages/pyglet/window/__init__.py:615\u001b[0m, in \u001b[0;36mBaseWindow.__init__\u001b[0;34m(self, width, height, caption, resizable, style, fullscreen, visible, vsync, file_drops, display, screen, config, context, mode)\u001b[0m\n\u001b[1;32m    612\u001b[0m     config \u001b[39m=\u001b[39m screen\u001b[39m.\u001b[39mget_best_config(config)\n\u001b[1;32m    614\u001b[0m \u001b[39mif\u001b[39;00m \u001b[39mnot\u001b[39;00m context:\n\u001b[0;32m--> 615\u001b[0m     context \u001b[39m=\u001b[39m config\u001b[39m.\u001b[39mcreate_context(gl\u001b[39m.\u001b[39mcurrent_context)\n\u001b[1;32m    617\u001b[0m \u001b[39m# Set these in reverse order to above, to ensure we get user preference\u001b[39;00m\n\u001b[1;32m    618\u001b[0m \u001b[39mself\u001b[39m\u001b[39m.\u001b[39m_context \u001b[39m=\u001b[39m context\n",
      "File \u001b[0;32m~/anaconda3/envs/gym/lib/python3.11/site-packages/pyglet/gl/xlib.py:204\u001b[0m, in \u001b[0;36mXlibCanvasConfig13.create_context\u001b[0;34m(self, share)\u001b[0m\n\u001b[1;32m    202\u001b[0m \u001b[39mdef\u001b[39;00m \u001b[39mcreate_context\u001b[39m(\u001b[39mself\u001b[39m, share):\n\u001b[1;32m    203\u001b[0m     \u001b[39mif\u001b[39;00m \u001b[39mself\u001b[39m\u001b[39m.\u001b[39mglx_info\u001b[39m.\u001b[39mhave_extension(\u001b[39m'\u001b[39m\u001b[39mGLX_ARB_create_context\u001b[39m\u001b[39m'\u001b[39m):\n\u001b[0;32m--> 204\u001b[0m         \u001b[39mreturn\u001b[39;00m XlibContextARB(\u001b[39mself\u001b[39m, share)\n\u001b[1;32m    205\u001b[0m     \u001b[39melse\u001b[39;00m:\n\u001b[1;32m    206\u001b[0m         \u001b[39mreturn\u001b[39;00m XlibContext13(\u001b[39mself\u001b[39m, share)\n",
      "File \u001b[0;32m~/anaconda3/envs/gym/lib/python3.11/site-packages/pyglet/gl/xlib.py:314\u001b[0m, in \u001b[0;36mXlibContext13.__init__\u001b[0;34m(self, config, share)\u001b[0m\n\u001b[1;32m    313\u001b[0m \u001b[39mdef\u001b[39;00m \u001b[39m__init__\u001b[39m(\u001b[39mself\u001b[39m, config, share):\n\u001b[0;32m--> 314\u001b[0m     \u001b[39msuper\u001b[39m(XlibContext13, \u001b[39mself\u001b[39m)\u001b[39m.\u001b[39m\u001b[39m__init__\u001b[39m(config, share)\n\u001b[1;32m    315\u001b[0m     \u001b[39mself\u001b[39m\u001b[39m.\u001b[39mglx_window \u001b[39m=\u001b[39m \u001b[39mNone\u001b[39;00m\n",
      "File \u001b[0;32m~/anaconda3/envs/gym/lib/python3.11/site-packages/pyglet/gl/xlib.py:218\u001b[0m, in \u001b[0;36mBaseXlibContext.__init__\u001b[0;34m(self, config, share)\u001b[0m\n\u001b[1;32m    215\u001b[0m \u001b[39mself\u001b[39m\u001b[39m.\u001b[39mglx_context \u001b[39m=\u001b[39m \u001b[39mself\u001b[39m\u001b[39m.\u001b[39m_create_glx_context(share)\n\u001b[1;32m    216\u001b[0m \u001b[39mif\u001b[39;00m \u001b[39mnot\u001b[39;00m \u001b[39mself\u001b[39m\u001b[39m.\u001b[39mglx_context:\n\u001b[1;32m    217\u001b[0m     \u001b[39m# TODO: Check Xlib error generated\u001b[39;00m\n\u001b[0;32m--> 218\u001b[0m     \u001b[39mraise\u001b[39;00m gl\u001b[39m.\u001b[39mContextException(\u001b[39m'\u001b[39m\u001b[39mCould not create GL context\u001b[39m\u001b[39m'\u001b[39m)\n\u001b[1;32m    220\u001b[0m \u001b[39mself\u001b[39m\u001b[39m.\u001b[39m_have_SGI_video_sync \u001b[39m=\u001b[39m config\u001b[39m.\u001b[39mglx_info\u001b[39m.\u001b[39mhave_extension(\u001b[39m'\u001b[39m\u001b[39mGLX_SGI_video_sync\u001b[39m\u001b[39m'\u001b[39m)\n\u001b[1;32m    221\u001b[0m \u001b[39mself\u001b[39m\u001b[39m.\u001b[39m_have_SGI_swap_control \u001b[39m=\u001b[39m config\u001b[39m.\u001b[39mglx_info\u001b[39m.\u001b[39mhave_extension(\u001b[39m'\u001b[39m\u001b[39mGLX_SGI_swap_control\u001b[39m\u001b[39m'\u001b[39m)\n",
      "\u001b[0;31mContextException\u001b[0m: Could not create GL context"
     ]
    }
   ],
   "source": [
    "env.reset()\n",
    "env.render(mode=\"rgb_array\")"
   ]
  }
 ],
 "metadata": {
  "kernelspec": {
   "display_name": "Python 3.11.4 ('gym')",
   "language": "python",
   "name": "python3"
  },
  "language_info": {
   "codemirror_mode": {
    "name": "ipython",
    "version": 3
   },
   "file_extension": ".py",
   "mimetype": "text/x-python",
   "name": "python",
   "nbconvert_exporter": "python",
   "pygments_lexer": "ipython3",
   "version": "3.11.4"
  },
  "orig_nbformat": 4,
  "vscode": {
   "interpreter": {
    "hash": "4a242f6d151f7e17cc10ceeb166a04bcd0e7e5689808eaf80cf1187d925c1b2c"
   }
  }
 },
 "nbformat": 4,
 "nbformat_minor": 2
}
