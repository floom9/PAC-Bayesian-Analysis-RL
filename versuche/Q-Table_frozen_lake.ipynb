{
 "cells": [
  {
   "cell_type": "code",
   "execution_count": 74,
   "metadata": {},
   "outputs": [],
   "source": [
    "import numpy as np\n",
    "# use gym==0.17.3 for better compatibility\n",
    "import gym\n",
    "import time\n",
    "from IPython.display import display, clear_output\n",
    "import ipywidgets as widgets"
   ]
  },
  {
   "cell_type": "markdown",
   "metadata": {},
   "source": [
    "# Q-Table approach on Frozen Lake"
   ]
  },
  {
   "cell_type": "code",
   "execution_count": 75,
   "metadata": {},
   "outputs": [],
   "source": [
    "env = gym.make('FrozenLake-v0',is_slippery=False)\n",
    "# not slippery at first\n",
    "# Number of states and actions\n",
    "n_states = env.observation_space.n\n",
    "n_actions = env.action_space.n"
   ]
  },
  {
   "cell_type": "code",
   "execution_count": 76,
   "metadata": {},
   "outputs": [
    {
     "name": "stdout",
     "output_type": "stream",
     "text": [
      "\n",
      "\u001b[41mS\u001b[0mFFF\n",
      "FHFH\n",
      "FFFH\n",
      "HFFG\n"
     ]
    }
   ],
   "source": [
    "env.reset()\n",
    "env.render(mode=\"human\")"
   ]
  },
  {
   "cell_type": "markdown",
   "metadata": {},
   "source": [
    "S = starting fied, F = frozen fields that can be stepped on, H = holes (game ends), G = goal"
   ]
  },
  {
   "cell_type": "code",
   "execution_count": 77,
   "metadata": {},
   "outputs": [],
   "source": [
    "# function to watch the agent play\n",
    "def watch_agent_play(env, policy, num_episodes=1, delay=0.5):\n",
    "    for _ in range(num_episodes):\n",
    "        state = env.reset()\n",
    "        done = False\n",
    "        while not done:\n",
    "            clear_output(wait=True)\n",
    "            env.render()\n",
    "            display(time.sleep(delay))  # Sleep for a short period to make the display more understandable\n",
    "            action = np.argmax(policy[state, :])\n",
    "            state, _, done, _ = env.step(action)\n",
    "# random argmax\n",
    "def random_argmax(b):\n",
    "    \"\"\" a random tie-breaking argmax\"\"\"\n",
    "    return np.random.choice(np.flatnonzero(b == b.max()))"
   ]
  },
  {
   "cell_type": "markdown",
   "metadata": {},
   "source": [
    "# Without Bayesian"
   ]
  },
  {
   "cell_type": "code",
   "execution_count": 78,
   "metadata": {},
   "outputs": [
    {
     "name": "stdout",
     "output_type": "stream",
     "text": [
      "(16, 4)\n",
      "(16, 4)\n"
     ]
    }
   ],
   "source": [
    "# Initialize Q-values and policy\n",
    "Q_values = np.zeros((n_states, n_actions))\n",
    "policy = np.ones((n_states, n_actions)) / n_actions  # Start with a uniform policy\n",
    "\n",
    "# Hyperparameters\n",
    "alpha = 0.1\n",
    "gamma = 0.99\n",
    "epsilon = 0.1\n",
    "print(Q_values.shape)\n",
    "print(policy.shape)"
   ]
  },
  {
   "cell_type": "code",
   "execution_count": 79,
   "metadata": {},
   "outputs": [],
   "source": [
    "# Q-learning with epsilon-greedy action selection\n",
    "# 10 000 episodes, episodes finish when dropping or winning\n",
    "for episode in range(10000):\n",
    "    state = env.reset()\n",
    "    done = False\n",
    "\n",
    "    while not done:\n",
    "        if np.random.uniform(0, 1) < epsilon:\n",
    "            action = env.action_space.sample()\n",
    "        else:\n",
    "            action = random_argmax(Q_values[state, :])\n",
    "\n",
    "        next_state, reward, done, _ = env.step(action)\n",
    "        best_next_action = random_argmax(Q_values[next_state, :])\n",
    "        \n",
    "        td_target = reward + gamma * Q_values[next_state, best_next_action]\n",
    "        td_error = td_target - Q_values[state, action]\n",
    "        \n",
    "        Q_values[state, action] += alpha * td_error\n",
    "        \n",
    "        state = next_state\n",
    "\n",
    "    # Update the policy using the Q-values (argmax of Q-table)\n",
    "    policy = np.zeros((n_states, n_actions))\n",
    "    best_actions = [random_argmax(row) for row in Q_values]\n",
    "    policy[range(n_states), best_actions] = 1\n"
   ]
  },
  {
   "cell_type": "code",
   "execution_count": 80,
   "metadata": {},
   "outputs": [
    {
     "name": "stdout",
     "output_type": "stream",
     "text": [
      "[[0. 1. 0. 0.]\n",
      " [1. 0. 0. 0.]\n",
      " [1. 0. 0. 0.]\n",
      " [1. 0. 0. 0.]\n",
      " [0. 1. 0. 0.]\n",
      " [1. 0. 0. 0.]\n",
      " [0. 0. 0. 1.]\n",
      " [0. 0. 1. 0.]\n",
      " [0. 0. 1. 0.]\n",
      " [0. 0. 1. 0.]\n",
      " [0. 1. 0. 0.]\n",
      " [1. 0. 0. 0.]\n",
      " [1. 0. 0. 0.]\n",
      " [0. 0. 0. 1.]\n",
      " [0. 0. 1. 0.]\n",
      " [1. 0. 0. 0.]]\n"
     ]
    }
   ],
   "source": [
    "print(policy)"
   ]
  },
  {
   "cell_type": "code",
   "execution_count": 81,
   "metadata": {},
   "outputs": [
    {
     "name": "stdout",
     "output_type": "stream",
     "text": [
      "  (Down)\n",
      "SFFF\n",
      "FHFH\n",
      "FFFH\n",
      "HF\u001b[41mF\u001b[0mG\n"
     ]
    },
    {
     "data": {
      "text/plain": [
       "None"
      ]
     },
     "metadata": {},
     "output_type": "display_data"
    }
   ],
   "source": [
    "# watch agent play\n",
    "watch_agent_play(env, policy, num_episodes=1)"
   ]
  },
  {
   "cell_type": "markdown",
   "metadata": {},
   "source": [
    "# With Bayesian"
   ]
  },
  {
   "cell_type": "markdown",
   "metadata": {},
   "source": [
    "Some adjustments have to be made:  \n",
    "Based on the Bayesian Q-Learning paper with assumption that R_sa ha normal distribution.\n",
    "### Policy representation:\n",
    "Q-values into distribution. Simple example here: Gaussian distribution for each Q-value characterized by mean (mu) and precision (basically the opposite of standard deviation) (sigma) (twin table)\n",
    "### Prior Distribution:\n",
    "Initialize with means zero (as usual), larger sigma suggests more uncertainty and vice versa\n",
    "### Update:\n",
    "Updating mechanisma for mu is similar to traditional Q-learning. The Temporal Difference gets computed and this error is used to corect the current Q-value estimate.TDerror​=(reward+γ×V(next_state))−V(state)    \n",
    "Adjusting sigma (Precision in this case) should be experimented on but I chose the approach that it can grow and shrink.\n",
    "### Sampling:\n",
    "When selecting an action we sample from the gaussian distributions for each Q-value and select based on the sampled value."
   ]
  },
  {
   "cell_type": "code",
   "execution_count": 107,
   "metadata": {},
   "outputs": [],
   "source": [
    "n_states = env.observation_space.n\n",
    "n_actions = env.action_space.n\n",
    "alpha = 0.1\n",
    "gamma = 0.95\n",
    "epsilon = 0.1\n",
    "\n",
    "# Initialize Q-values (means) and their uncertainties (standard deviations)\n",
    "Q_means = np.zeros((n_states, n_actions))\n",
    "Q_sigmas = np.full((n_states, n_actions), 1.0)  # starting with high uncertainty"
   ]
  },
  {
   "cell_type": "code",
   "execution_count": 108,
   "metadata": {},
   "outputs": [],
   "source": [
    "for episode in range(10000):\n",
    "    state = env.reset()\n",
    "    done = False\n",
    "\n",
    "    while not done:\n",
    "        # Epsilon-greedy action selection\n",
    "        if np.random.uniform(0, 1) < epsilon:\n",
    "            action = env.action_space.sample()\n",
    "        else:\n",
    "            # Q-value sampling for action selection\n",
    "            sampled_Qs = Q_means[state, :] + np.random.randn(n_actions) * Q_sigmas[state, :]\n",
    "            action = random_argmax(sampled_Qs)\n",
    "\n",
    "        next_state, reward, done, _ = env.step(action)\n",
    "        \n",
    "        # Q-learning update for means\n",
    "        best_next_action = random_argmax(Q_means[next_state, :])\n",
    "        td_target = reward + gamma * Q_means[next_state, best_next_action]\n",
    "        td_error = td_target - Q_means[state, action]\n",
    "        Q_means[state, action] += alpha * td_error\n",
    "        \n",
    "        # Adaptive precision update\n",
    "        relative_td_error = abs(td_error) / (abs(Q_means[state, action]) + 1e-10)\n",
    "        alpha_for_precision = 0.1\n",
    "        Q_sigmas[state, action] *= (1 - alpha_for_precision) + alpha_for_precision * relative_td_error\n",
    "        \n",
    "        state = next_state\n",
    "    \n",
    "    policy = np.zeros((n_states, n_actions))\n",
    "    best_actions = [random_argmax(row) for row in Q_values]\n",
    "    policy[range(n_states), best_actions] = 1\n"
   ]
  },
  {
   "cell_type": "code",
   "execution_count": null,
   "metadata": {},
   "outputs": [],
   "source": [
    "# watch agent play\n",
    "watch_agent_play(env, policy, num_episodes=1)"
   ]
  }
 ],
 "metadata": {
  "kernelspec": {
   "display_name": "Python 3.11.4 ('gym')",
   "language": "python",
   "name": "python3"
  },
  "language_info": {
   "codemirror_mode": {
    "name": "ipython",
    "version": 3
   },
   "file_extension": ".py",
   "mimetype": "text/x-python",
   "name": "python",
   "nbconvert_exporter": "python",
   "pygments_lexer": "ipython3",
   "version": "3.11.4"
  },
  "orig_nbformat": 4,
  "vscode": {
   "interpreter": {
    "hash": "4a242f6d151f7e17cc10ceeb166a04bcd0e7e5689808eaf80cf1187d925c1b2c"
   }
  }
 },
 "nbformat": 4,
 "nbformat_minor": 2
}
